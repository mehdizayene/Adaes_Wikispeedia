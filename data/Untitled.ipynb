{
 "cells": [
  {
   "cell_type": "code",
   "execution_count": 3,
   "id": "15be46cc",
   "metadata": {},
   "outputs": [],
   "source": [
    "import networkx as nx\n",
    "import random \n",
    "random.seed(200)"
   ]
  },
  {
   "cell_type": "code",
   "execution_count": 5,
   "id": "b9e7291a",
   "metadata": {},
   "outputs": [],
   "source": [
    "#start round\n",
    "\n",
    "G_articles = nx.read_gpickle('G_articles.gpickle')\n",
    "list_of_nodes = list(G_articles.nodes)\n",
    "rand_idx = random.randrange(len(list_of_nodes))\n",
    "current_node = list_of_nodes[rand_idx]"
   ]
  },
  {
   "cell_type": "code",
   "execution_count": 6,
   "id": "25af7011",
   "metadata": {},
   "outputs": [
    {
     "data": {
      "text/plain": [
       "'Slovakia'"
      ]
     },
     "execution_count": 6,
     "metadata": {},
     "output_type": "execute_result"
    }
   ],
   "source": [
    "current_node"
   ]
  },
  {
   "cell_type": "code",
   "execution_count": 13,
   "id": "ed10e091",
   "metadata": {},
   "outputs": [
    {
     "data": {
      "text/plain": [
       "49"
      ]
     },
     "execution_count": 13,
     "metadata": {},
     "output_type": "execute_result"
    }
   ],
   "source": [
    "len(list(G_articles.neighbors('Yugoslavia')))"
   ]
  },
  {
   "cell_type": "code",
   "execution_count": null,
   "id": "2366e132",
   "metadata": {},
   "outputs": [],
   "source": []
  }
 ],
 "metadata": {
  "kernelspec": {
   "display_name": "Python 3 (ipykernel)",
   "language": "python",
   "name": "python3"
  },
  "language_info": {
   "codemirror_mode": {
    "name": "ipython",
    "version": 3
   },
   "file_extension": ".py",
   "mimetype": "text/x-python",
   "name": "python",
   "nbconvert_exporter": "python",
   "pygments_lexer": "ipython3",
   "version": "3.9.12"
  }
 },
 "nbformat": 4,
 "nbformat_minor": 5
}
